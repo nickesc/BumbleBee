{
 "cells": [
  {
   "cell_type": "markdown",
   "id": "dbfa6f5d",
   "metadata": {},
   "source": [
    "# Getting Buzzword Candidates\n",
    "\n",
    "In this notebook, we create the necessary game dictionary files and save them to the `dictionary/` folder."
   ]
  },
  {
   "cell_type": "code",
   "execution_count": 1,
   "id": "c0ff3632",
   "metadata": {},
   "outputs": [],
   "source": [
    "import json\n",
    "import csv\n",
    "import src.files as files\n",
    "import random"
   ]
  },
  {
   "cell_type": "markdown",
   "id": "3dbb537e",
   "metadata": {},
   "source": [
    "First we set `circuitpython=False` because this notebook gets executed on a computer, and we need to make sure that we write to the project directory and not the root of the computer"
   ]
  },
  {
   "cell_type": "code",
   "execution_count": 2,
   "id": "0b5e320c",
   "metadata": {},
   "outputs": [],
   "source": [
    "circuitpython=False"
   ]
  },
  {
   "cell_type": "markdown",
   "id": "d72a0d46",
   "metadata": {},
   "source": [
    "First thing we grab is our English dictionary file and save the contents to a `.csv`/`.json` if it's within the game's length parameters (over four and no more than 15)"
   ]
  },
  {
   "cell_type": "code",
   "execution_count": 14,
   "id": "39023d49",
   "metadata": {},
   "outputs": [],
   "source": [
    "with open(files.getTwl06(circuitpython)) as dictionaryText:\n",
    "    dictionaryJson={}\n",
    "    dictionaryCsv=\"\"\n",
    "    for line in dictionaryText:\n",
    "        line=line.strip().lower()\n",
    "        if (15>len(line)>=4):\n",
    "            dictionaryJson[line]=0\n",
    "            dictionaryCsv=dictionaryCsv+line+\"\\n\""
   ]
  },
  {
   "cell_type": "code",
   "execution_count": 15,
   "id": "d432221d",
   "metadata": {},
   "outputs": [],
   "source": [
    "with open(files.getDictionary(circuitpython), 'w') as dictionaryFile:\n",
    "  # Write the dictionary to the file in JSON format\n",
    "  json.dump(dictionaryJson, dictionaryFile)"
   ]
  },
  {
   "cell_type": "code",
   "execution_count": 5,
   "id": "c33f3446",
   "metadata": {},
   "outputs": [],
   "source": [
    "with open(files.getDictionaryCsv(circuitpython), 'w') as dictionaryCsvFile:\n",
    "  # Write the dictionary to the file in CSV format\n",
    "  dictionaryCsvFile.write(dictionaryCsv)"
   ]
  },
  {
   "cell_type": "markdown",
   "id": "10afc238",
   "metadata": {},
   "source": [
    "Next, we load the English dictionary back in after saving and make a copy of it to work on as the `buzzCandidates` dictionary"
   ]
  },
  {
   "cell_type": "code",
   "execution_count": 7,
   "id": "b415d29c",
   "metadata": {},
   "outputs": [],
   "source": [
    "with open(files.getDictionary(circuitpython)) as dictionaryFile:\n",
    "    englishDictionary = json.load(dictionaryFile)"
   ]
  },
  {
   "cell_type": "code",
   "execution_count": 8,
   "id": "20df6fb5",
   "metadata": {},
   "outputs": [],
   "source": [
    "buzzCandidates=englishDictionary.copy()"
   ]
  },
  {
   "cell_type": "markdown",
   "id": "459de069",
   "metadata": {},
   "source": [
    "Then, we can make the necessary transformations on the English dictionary to get the `buzzCandidates` and save them to a `.csv`/`.json`"
   ]
  },
  {
   "cell_type": "code",
   "execution_count": 9,
   "id": "020d4866",
   "metadata": {},
   "outputs": [],
   "source": [
    "for word in englishDictionary:\n",
    "    if (len(word)<7):\n",
    "        buzzCandidates.pop(word)\n",
    "    else:\n",
    "        seenLetters = set()\n",
    "        for letter in word:\n",
    "            seenLetters.add(letter)\n",
    "\n",
    "        if (len(seenLetters)!=7):\n",
    "            buzzCandidates.pop(word)\n",
    "\n",
    "candidates=\"\"\n",
    "for candidate in buzzCandidates:\n",
    "    candidates=candidates+candidate+\"\\n\""
   ]
  },
  {
   "cell_type": "code",
   "execution_count": 10,
   "id": "00646b6c",
   "metadata": {},
   "outputs": [],
   "source": [
    "with open(files.getBuzzCandidates(circuitpython), 'w') as candidateFile:\n",
    "  # Write the dictionary to the file in JSON format\n",
    "  json.dump(buzzCandidates, candidateFile)"
   ]
  },
  {
   "cell_type": "code",
   "execution_count": 11,
   "id": "fcf8061c",
   "metadata": {},
   "outputs": [],
   "source": [
    "with open(files.getBuzzCandidatesCsv(circuitpython), 'w') as candidateCsvFile:\n",
    "  # Write the dictionary to the file in CSV format\n",
    "  candidateCsvFile.write(candidates)"
   ]
  },
  {
   "cell_type": "markdown",
   "id": "c2605fbb",
   "metadata": {},
   "source": [
    "Finally, we print things out to get a sense of what our dictionaries look like and ensure everything is under our maximum word length"
   ]
  },
  {
   "cell_type": "code",
   "execution_count": null,
   "id": "64538605",
   "metadata": {},
   "outputs": [],
   "source": [
    "print(buzzCandidates)\n",
    "print(len(englishDictionary))\n",
    "print(len(buzzCandidates))"
   ]
  },
  {
   "cell_type": "code",
   "execution_count": 13,
   "id": "8df9d1f9",
   "metadata": {},
   "outputs": [],
   "source": [
    "with open(files.getDictionaryCsv(circuitpython)) as dictionaryFile:\n",
    "    wordsList = dictionaryFile.readlines()\n",
    "    for word in wordsList:\n",
    "        if len(word)>15:\n",
    "            print(word)"
   ]
  }
 ],
 "metadata": {
  "kernelspec": {
   "display_name": "Python 3.11.0 64-bit ('3.11.0')",
   "language": "python",
   "name": "python3"
  },
  "language_info": {
   "codemirror_mode": {
    "name": "ipython",
    "version": 3
   },
   "file_extension": ".py",
   "mimetype": "text/x-python",
   "name": "python",
   "nbconvert_exporter": "python",
   "pygments_lexer": "ipython3",
   "version": "3.11.0"
  },
  "vscode": {
   "interpreter": {
    "hash": "5caec56510f15b75d23990f2c8befa822c0392a511250ab936c1dff7aa95df56"
   }
  }
 },
 "nbformat": 4,
 "nbformat_minor": 5
}
