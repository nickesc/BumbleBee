{
 "cells": [
  {
   "cell_type": "code",
   "execution_count": null,
   "id": "c0ff3632",
   "metadata": {},
   "outputs": [],
   "source": [
    "import json\n",
    "import csv\n",
    "import src.files as files\n",
    "import random\n",
    "\n",
    "circuitpython=False\n",
    "\n",
    "with open(files.getTwl06(circuitpython)) as dictionaryText:\n",
    "\n",
    "    dictionaryJson={}\n",
    "    for line in dictionaryText:\n",
    "        line=line.strip()\n",
    "        if (len(line)>=4):\n",
    "            dictionaryJson[line]=len(line)\n",
    "\n",
    "with open(files.getDictionary(circuitpython), 'w') as dictionaryFile:\n",
    "  # Write the dictionary to the file in JSON format\n",
    "  json.dump(dictionaryJson, dictionaryFile)\n",
    "\n",
    "\n",
    "with open(files.getDictionary(circuitpython)) as dictionaryFile:\n",
    "    englishDictionary = json.load(dictionaryFile)\n",
    "\n",
    "\n",
    "buzzCandidates=englishDictionary.copy()\n",
    "\n",
    "for word in englishDictionary:\n",
    "    if (len(word)<7):\n",
    "        buzzCandidates.pop(word)\n",
    "    else:\n",
    "        seenLetters = set()\n",
    "        for letter in word:\n",
    "            seenLetters.add(letter)\n",
    "\n",
    "        if (len(seenLetters)!=7):\n",
    "            buzzCandidates.pop(word)\n",
    "\n",
    "with open(files.getBuzzCandidates(circuitpython), 'w') as candidateFile:\n",
    "  # Write the dictionary to the file in JSON format\n",
    "  json.dump(buzzCandidates, candidateFile)\n",
    "\n",
    "print(buzzCandidates)\n",
    "print(len(englishDictionary))\n",
    "print(len(buzzCandidates))"
   ]
  }
 ],
 "metadata": {
  "kernelspec": {
   "display_name": "Python 3 (ipykernel)",
   "language": "python",
   "name": "python3"
  },
  "language_info": {
   "codemirror_mode": {
    "name": "ipython",
    "version": 3
   },
   "file_extension": ".py",
   "mimetype": "text/x-python",
   "name": "python",
   "nbconvert_exporter": "python",
   "pygments_lexer": "ipython3",
   "version": "3.11.0"
  }
 },
 "nbformat": 4,
 "nbformat_minor": 5
}
